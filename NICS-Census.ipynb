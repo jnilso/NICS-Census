{
 "cells": [
  {
   "cell_type": "markdown",
   "id": "c9a63fae-4bdf-44aa-acd0-416e1c4dd278",
   "metadata": {},
   "source": [
    "# Project: Investigation of US Census and National Instant Criminal Check datasets\n",
    "\n",
    "\n",
    "## Table of Contents\n",
    "<ul>\n",
    "<li><a href=\"#intro\">Introduction</a></li>\n",
    "<li><a href=\"#wrangling\">Data Wrangling</a></li>\n",
    "<li><a href=\"#eda\">Exploratory Data Analysis</a></li>\n",
    "<li><a href=\"#conclusions\">Conclusions</a></li>\n",
    "</ul>"
   ]
  },
  {
   "cell_type": "markdown",
   "id": "44dfed42-849f-49ed-bd0a-65da54b539de",
   "metadata": {},
   "source": [
    "<a id='intro'></a>\n",
    "## Introduction\n",
    "\n",
    "The goal of this project is to investigate US Census and FBI NICS datasets to determine if poverty has an influence on the number of firearms used as security for loan, i.e. pawned. I'll break this question into three parts:<br>\n",
    ">1. Is there any question between the number of NICS prepawn background checks and the percentage of the population living under the poverty line?\n",
    ">2. Is the inverse true? In states with a higher per-capita or median income, is the population more likely to have a higher rate of redemption (firearm returned from pawn) background checks?\n",
    ">3. Is there a relationship between the number of people living under the poverty line and using a fiream as collateral to secure a loan?\n",
    "        \n",
    "To explore this question I will load, wrangle, analyse and make conclusions with these two datasets."
   ]
  },
  {
   "cell_type": "code",
   "execution_count": 2,
   "id": "d045383d-8fbf-4bcc-8423-82f47744689b",
   "metadata": {},
   "outputs": [],
   "source": [
    "# import modules\n",
    "import pandas as pd\n",
    "import matplotlib.pyplot as plt\n",
    "%matplotlib inline\n",
    "# load data\n",
    "df_nics = pd.read_excel('gun_data.xlsx')\n",
    "df_census = pd.read_csv('U.S. Census Data.csv')"
   ]
  },
  {
   "cell_type": "code",
   "execution_count": 3,
   "id": "ffd2ff24-c57a-4fd9-a41a-df88a555b1be",
   "metadata": {},
   "outputs": [
    {
     "data": {
      "text/html": [
       "<div>\n",
       "<style scoped>\n",
       "    .dataframe tbody tr th:only-of-type {\n",
       "        vertical-align: middle;\n",
       "    }\n",
       "\n",
       "    .dataframe tbody tr th {\n",
       "        vertical-align: top;\n",
       "    }\n",
       "\n",
       "    .dataframe thead th {\n",
       "        text-align: right;\n",
       "    }\n",
       "</style>\n",
       "<table border=\"1\" class=\"dataframe\">\n",
       "  <thead>\n",
       "    <tr style=\"text-align: right;\">\n",
       "      <th></th>\n",
       "      <th>month</th>\n",
       "      <th>state</th>\n",
       "      <th>permit</th>\n",
       "      <th>permit_recheck</th>\n",
       "      <th>handgun</th>\n",
       "      <th>long_gun</th>\n",
       "      <th>other</th>\n",
       "      <th>multiple</th>\n",
       "      <th>admin</th>\n",
       "      <th>prepawn_handgun</th>\n",
       "      <th>...</th>\n",
       "      <th>returned_other</th>\n",
       "      <th>rentals_handgun</th>\n",
       "      <th>rentals_long_gun</th>\n",
       "      <th>private_sale_handgun</th>\n",
       "      <th>private_sale_long_gun</th>\n",
       "      <th>private_sale_other</th>\n",
       "      <th>return_to_seller_handgun</th>\n",
       "      <th>return_to_seller_long_gun</th>\n",
       "      <th>return_to_seller_other</th>\n",
       "      <th>totals</th>\n",
       "    </tr>\n",
       "  </thead>\n",
       "  <tbody>\n",
       "    <tr>\n",
       "      <th>0</th>\n",
       "      <td>2017-09</td>\n",
       "      <td>Alabama</td>\n",
       "      <td>16717.0</td>\n",
       "      <td>0.0</td>\n",
       "      <td>5734.0</td>\n",
       "      <td>6320.0</td>\n",
       "      <td>221.0</td>\n",
       "      <td>317</td>\n",
       "      <td>0.0</td>\n",
       "      <td>15.0</td>\n",
       "      <td>...</td>\n",
       "      <td>0.0</td>\n",
       "      <td>0.0</td>\n",
       "      <td>0.0</td>\n",
       "      <td>9.0</td>\n",
       "      <td>16.0</td>\n",
       "      <td>3.0</td>\n",
       "      <td>0.0</td>\n",
       "      <td>0.0</td>\n",
       "      <td>3.0</td>\n",
       "      <td>32019</td>\n",
       "    </tr>\n",
       "    <tr>\n",
       "      <th>1</th>\n",
       "      <td>2017-09</td>\n",
       "      <td>Alaska</td>\n",
       "      <td>209.0</td>\n",
       "      <td>2.0</td>\n",
       "      <td>2320.0</td>\n",
       "      <td>2930.0</td>\n",
       "      <td>219.0</td>\n",
       "      <td>160</td>\n",
       "      <td>0.0</td>\n",
       "      <td>5.0</td>\n",
       "      <td>...</td>\n",
       "      <td>0.0</td>\n",
       "      <td>0.0</td>\n",
       "      <td>0.0</td>\n",
       "      <td>17.0</td>\n",
       "      <td>24.0</td>\n",
       "      <td>1.0</td>\n",
       "      <td>0.0</td>\n",
       "      <td>0.0</td>\n",
       "      <td>0.0</td>\n",
       "      <td>6303</td>\n",
       "    </tr>\n",
       "    <tr>\n",
       "      <th>2</th>\n",
       "      <td>2017-09</td>\n",
       "      <td>Arizona</td>\n",
       "      <td>5069.0</td>\n",
       "      <td>382.0</td>\n",
       "      <td>11063.0</td>\n",
       "      <td>7946.0</td>\n",
       "      <td>920.0</td>\n",
       "      <td>631</td>\n",
       "      <td>0.0</td>\n",
       "      <td>13.0</td>\n",
       "      <td>...</td>\n",
       "      <td>0.0</td>\n",
       "      <td>0.0</td>\n",
       "      <td>0.0</td>\n",
       "      <td>38.0</td>\n",
       "      <td>12.0</td>\n",
       "      <td>2.0</td>\n",
       "      <td>0.0</td>\n",
       "      <td>0.0</td>\n",
       "      <td>0.0</td>\n",
       "      <td>28394</td>\n",
       "    </tr>\n",
       "    <tr>\n",
       "      <th>3</th>\n",
       "      <td>2017-09</td>\n",
       "      <td>Arkansas</td>\n",
       "      <td>2935.0</td>\n",
       "      <td>632.0</td>\n",
       "      <td>4347.0</td>\n",
       "      <td>6063.0</td>\n",
       "      <td>165.0</td>\n",
       "      <td>366</td>\n",
       "      <td>51.0</td>\n",
       "      <td>12.0</td>\n",
       "      <td>...</td>\n",
       "      <td>0.0</td>\n",
       "      <td>0.0</td>\n",
       "      <td>0.0</td>\n",
       "      <td>13.0</td>\n",
       "      <td>23.0</td>\n",
       "      <td>0.0</td>\n",
       "      <td>0.0</td>\n",
       "      <td>2.0</td>\n",
       "      <td>1.0</td>\n",
       "      <td>17747</td>\n",
       "    </tr>\n",
       "    <tr>\n",
       "      <th>4</th>\n",
       "      <td>2017-09</td>\n",
       "      <td>California</td>\n",
       "      <td>57839.0</td>\n",
       "      <td>0.0</td>\n",
       "      <td>37165.0</td>\n",
       "      <td>24581.0</td>\n",
       "      <td>2984.0</td>\n",
       "      <td>0</td>\n",
       "      <td>0.0</td>\n",
       "      <td>0.0</td>\n",
       "      <td>...</td>\n",
       "      <td>0.0</td>\n",
       "      <td>0.0</td>\n",
       "      <td>0.0</td>\n",
       "      <td>0.0</td>\n",
       "      <td>0.0</td>\n",
       "      <td>0.0</td>\n",
       "      <td>0.0</td>\n",
       "      <td>0.0</td>\n",
       "      <td>0.0</td>\n",
       "      <td>123506</td>\n",
       "    </tr>\n",
       "  </tbody>\n",
       "</table>\n",
       "<p>5 rows × 27 columns</p>\n",
       "</div>"
      ],
      "text/plain": [
       "     month       state   permit  permit_recheck  handgun  long_gun   other  \\\n",
       "0  2017-09     Alabama  16717.0             0.0   5734.0    6320.0   221.0   \n",
       "1  2017-09      Alaska    209.0             2.0   2320.0    2930.0   219.0   \n",
       "2  2017-09     Arizona   5069.0           382.0  11063.0    7946.0   920.0   \n",
       "3  2017-09    Arkansas   2935.0           632.0   4347.0    6063.0   165.0   \n",
       "4  2017-09  California  57839.0             0.0  37165.0   24581.0  2984.0   \n",
       "\n",
       "   multiple  admin  prepawn_handgun  ...  returned_other  rentals_handgun  \\\n",
       "0       317    0.0             15.0  ...             0.0              0.0   \n",
       "1       160    0.0              5.0  ...             0.0              0.0   \n",
       "2       631    0.0             13.0  ...             0.0              0.0   \n",
       "3       366   51.0             12.0  ...             0.0              0.0   \n",
       "4         0    0.0              0.0  ...             0.0              0.0   \n",
       "\n",
       "   rentals_long_gun  private_sale_handgun  private_sale_long_gun  \\\n",
       "0               0.0                   9.0                   16.0   \n",
       "1               0.0                  17.0                   24.0   \n",
       "2               0.0                  38.0                   12.0   \n",
       "3               0.0                  13.0                   23.0   \n",
       "4               0.0                   0.0                    0.0   \n",
       "\n",
       "   private_sale_other  return_to_seller_handgun  return_to_seller_long_gun  \\\n",
       "0                 3.0                       0.0                        0.0   \n",
       "1                 1.0                       0.0                        0.0   \n",
       "2                 2.0                       0.0                        0.0   \n",
       "3                 0.0                       0.0                        2.0   \n",
       "4                 0.0                       0.0                        0.0   \n",
       "\n",
       "   return_to_seller_other  totals  \n",
       "0                     3.0   32019  \n",
       "1                     0.0    6303  \n",
       "2                     0.0   28394  \n",
       "3                     1.0   17747  \n",
       "4                     0.0  123506  \n",
       "\n",
       "[5 rows x 27 columns]"
      ]
     },
     "execution_count": 3,
     "metadata": {},
     "output_type": "execute_result"
    }
   ],
   "source": [
    "df_nics.head()"
   ]
  },
  {
   "cell_type": "code",
   "execution_count": 4,
   "id": "c7c149de-78c3-4336-adc1-62fec12e3cb8",
   "metadata": {},
   "outputs": [
    {
     "data": {
      "text/html": [
       "<div>\n",
       "<style scoped>\n",
       "    .dataframe tbody tr th:only-of-type {\n",
       "        vertical-align: middle;\n",
       "    }\n",
       "\n",
       "    .dataframe tbody tr th {\n",
       "        vertical-align: top;\n",
       "    }\n",
       "\n",
       "    .dataframe thead th {\n",
       "        text-align: right;\n",
       "    }\n",
       "</style>\n",
       "<table border=\"1\" class=\"dataframe\">\n",
       "  <thead>\n",
       "    <tr style=\"text-align: right;\">\n",
       "      <th></th>\n",
       "      <th>Fact</th>\n",
       "      <th>Fact Note</th>\n",
       "      <th>Alabama</th>\n",
       "      <th>Alaska</th>\n",
       "      <th>Arizona</th>\n",
       "      <th>Arkansas</th>\n",
       "      <th>California</th>\n",
       "      <th>Colorado</th>\n",
       "      <th>Connecticut</th>\n",
       "      <th>Delaware</th>\n",
       "      <th>...</th>\n",
       "      <th>South Dakota</th>\n",
       "      <th>Tennessee</th>\n",
       "      <th>Texas</th>\n",
       "      <th>Utah</th>\n",
       "      <th>Vermont</th>\n",
       "      <th>Virginia</th>\n",
       "      <th>Washington</th>\n",
       "      <th>West Virginia</th>\n",
       "      <th>Wisconsin</th>\n",
       "      <th>Wyoming</th>\n",
       "    </tr>\n",
       "  </thead>\n",
       "  <tbody>\n",
       "    <tr>\n",
       "      <th>0</th>\n",
       "      <td>Population estimates, July 1, 2016,  (V2016)</td>\n",
       "      <td>NaN</td>\n",
       "      <td>4,863,300</td>\n",
       "      <td>741,894</td>\n",
       "      <td>6,931,071</td>\n",
       "      <td>2,988,248</td>\n",
       "      <td>39,250,017</td>\n",
       "      <td>5,540,545</td>\n",
       "      <td>3,576,452</td>\n",
       "      <td>952,065</td>\n",
       "      <td>...</td>\n",
       "      <td>865454</td>\n",
       "      <td>6651194</td>\n",
       "      <td>27,862,596</td>\n",
       "      <td>3,051,217</td>\n",
       "      <td>624,594</td>\n",
       "      <td>8,411,808</td>\n",
       "      <td>7,288,000</td>\n",
       "      <td>1,831,102</td>\n",
       "      <td>5,778,708</td>\n",
       "      <td>585,501</td>\n",
       "    </tr>\n",
       "    <tr>\n",
       "      <th>1</th>\n",
       "      <td>Population estimates base, April 1, 2010,  (V2...</td>\n",
       "      <td>NaN</td>\n",
       "      <td>4,780,131</td>\n",
       "      <td>710,249</td>\n",
       "      <td>6,392,301</td>\n",
       "      <td>2,916,025</td>\n",
       "      <td>37,254,522</td>\n",
       "      <td>5,029,324</td>\n",
       "      <td>3,574,114</td>\n",
       "      <td>897,936</td>\n",
       "      <td>...</td>\n",
       "      <td>814195</td>\n",
       "      <td>6346298</td>\n",
       "      <td>25,146,100</td>\n",
       "      <td>2,763,888</td>\n",
       "      <td>625,741</td>\n",
       "      <td>8,001,041</td>\n",
       "      <td>6,724,545</td>\n",
       "      <td>1,853,011</td>\n",
       "      <td>5,687,289</td>\n",
       "      <td>563,767</td>\n",
       "    </tr>\n",
       "    <tr>\n",
       "      <th>2</th>\n",
       "      <td>Population, percent change - April 1, 2010 (es...</td>\n",
       "      <td>NaN</td>\n",
       "      <td>1.70%</td>\n",
       "      <td>4.50%</td>\n",
       "      <td>8.40%</td>\n",
       "      <td>2.50%</td>\n",
       "      <td>5.40%</td>\n",
       "      <td>10.20%</td>\n",
       "      <td>0.10%</td>\n",
       "      <td>6.00%</td>\n",
       "      <td>...</td>\n",
       "      <td>0.063</td>\n",
       "      <td>0.048</td>\n",
       "      <td>10.80%</td>\n",
       "      <td>10.40%</td>\n",
       "      <td>-0.20%</td>\n",
       "      <td>5.10%</td>\n",
       "      <td>8.40%</td>\n",
       "      <td>-1.20%</td>\n",
       "      <td>1.60%</td>\n",
       "      <td>3.90%</td>\n",
       "    </tr>\n",
       "    <tr>\n",
       "      <th>3</th>\n",
       "      <td>Population, Census, April 1, 2010</td>\n",
       "      <td>NaN</td>\n",
       "      <td>4,779,736</td>\n",
       "      <td>710,231</td>\n",
       "      <td>6,392,017</td>\n",
       "      <td>2,915,918</td>\n",
       "      <td>37,253,956</td>\n",
       "      <td>5,029,196</td>\n",
       "      <td>3,574,097</td>\n",
       "      <td>897,934</td>\n",
       "      <td>...</td>\n",
       "      <td>814180</td>\n",
       "      <td>6346105</td>\n",
       "      <td>25,145,561</td>\n",
       "      <td>2,763,885</td>\n",
       "      <td>625,741</td>\n",
       "      <td>8,001,024</td>\n",
       "      <td>6,724,540</td>\n",
       "      <td>1,852,994</td>\n",
       "      <td>5,686,986</td>\n",
       "      <td>563,626</td>\n",
       "    </tr>\n",
       "    <tr>\n",
       "      <th>4</th>\n",
       "      <td>Persons under 5 years, percent, July 1, 2016, ...</td>\n",
       "      <td>NaN</td>\n",
       "      <td>6.00%</td>\n",
       "      <td>7.30%</td>\n",
       "      <td>6.30%</td>\n",
       "      <td>6.40%</td>\n",
       "      <td>6.30%</td>\n",
       "      <td>6.10%</td>\n",
       "      <td>5.20%</td>\n",
       "      <td>5.80%</td>\n",
       "      <td>...</td>\n",
       "      <td>0.071</td>\n",
       "      <td>0.061</td>\n",
       "      <td>7.20%</td>\n",
       "      <td>8.30%</td>\n",
       "      <td>4.90%</td>\n",
       "      <td>6.10%</td>\n",
       "      <td>6.20%</td>\n",
       "      <td>5.50%</td>\n",
       "      <td>5.80%</td>\n",
       "      <td>6.50%</td>\n",
       "    </tr>\n",
       "  </tbody>\n",
       "</table>\n",
       "<p>5 rows × 52 columns</p>\n",
       "</div>"
      ],
      "text/plain": [
       "                                                Fact Fact Note    Alabama  \\\n",
       "0       Population estimates, July 1, 2016,  (V2016)       NaN  4,863,300   \n",
       "1  Population estimates base, April 1, 2010,  (V2...       NaN  4,780,131   \n",
       "2  Population, percent change - April 1, 2010 (es...       NaN      1.70%   \n",
       "3                  Population, Census, April 1, 2010       NaN  4,779,736   \n",
       "4  Persons under 5 years, percent, July 1, 2016, ...       NaN      6.00%   \n",
       "\n",
       "    Alaska    Arizona   Arkansas  California   Colorado Connecticut Delaware  \\\n",
       "0  741,894  6,931,071  2,988,248  39,250,017  5,540,545   3,576,452  952,065   \n",
       "1  710,249  6,392,301  2,916,025  37,254,522  5,029,324   3,574,114  897,936   \n",
       "2    4.50%      8.40%      2.50%       5.40%     10.20%       0.10%    6.00%   \n",
       "3  710,231  6,392,017  2,915,918  37,253,956  5,029,196   3,574,097  897,934   \n",
       "4    7.30%      6.30%      6.40%       6.30%      6.10%       5.20%    5.80%   \n",
       "\n",
       "   ... South Dakota Tennessee       Texas       Utah  Vermont   Virginia  \\\n",
       "0  ...       865454   6651194  27,862,596  3,051,217  624,594  8,411,808   \n",
       "1  ...       814195   6346298  25,146,100  2,763,888  625,741  8,001,041   \n",
       "2  ...        0.063     0.048      10.80%     10.40%   -0.20%      5.10%   \n",
       "3  ...       814180   6346105  25,145,561  2,763,885  625,741  8,001,024   \n",
       "4  ...        0.071     0.061       7.20%      8.30%    4.90%      6.10%   \n",
       "\n",
       "  Washington West Virginia  Wisconsin  Wyoming  \n",
       "0  7,288,000     1,831,102  5,778,708  585,501  \n",
       "1  6,724,545     1,853,011  5,687,289  563,767  \n",
       "2      8.40%        -1.20%      1.60%    3.90%  \n",
       "3  6,724,540     1,852,994  5,686,986  563,626  \n",
       "4      6.20%         5.50%      5.80%    6.50%  \n",
       "\n",
       "[5 rows x 52 columns]"
      ]
     },
     "execution_count": 4,
     "metadata": {},
     "output_type": "execute_result"
    }
   ],
   "source": [
    "df_census.head()"
   ]
  },
  {
   "cell_type": "markdown",
   "id": "0f330f86-f5ae-476d-aa43-f3fee7d5d61d",
   "metadata": {},
   "source": [
    "Both datasets loaded successfully. Next I'll take a look at both datasets to check on data types and, since I'm looking at data on a state-by-state basis, I'll check the NICS data for surprises. I can already see that the Census data only contains the 50 states. (52 columns, 2 of which are fact and fact notes)"
   ]
  },
  {
   "cell_type": "code",
   "execution_count": 5,
   "id": "4f006aa1-318f-4486-961d-60cd8a518583",
   "metadata": {},
   "outputs": [
    {
     "name": "stdout",
     "output_type": "stream",
     "text": [
      "NICS datatypes: float64    23\n",
      "object      2\n",
      "int64       2\n",
      "dtype: int64\n",
      "Unique States in NICS Data: 55\n",
      "******\n",
      "Census datatypes: object    52\n",
      "dtype: int64\n"
     ]
    }
   ],
   "source": [
    "# printing datatypes with counts\n",
    "print('NICS datatypes: {}'.format(df_nics.dtypes.value_counts()))\n",
    "print('Unique States in NICS Data: {}'.format(df_nics.state.nunique()))\n",
    "print('******')\n",
    "print('Census datatypes: {}'.format(df_census.dtypes.value_counts()))\n"
   ]
  },
  {
   "cell_type": "markdown",
   "id": "bcfe323b-f286-4308-b3a4-6303329d46b8",
   "metadata": {},
   "source": [
    "There appears to be a mix of data types. I can already see that the US Census data contains non-integer characters, indicating that each column value is a string instead of a numeric type. Also, the NICS data contains values representing the number of background checks conducted in all 50 states (and DC, Virgin Islands, Puerto Rico, Mariana Islands, and Guam) on monthly basis. The census data only contains information about the 50 US States. I will have to reconcile that difference.\n",
    "\n",
    "In the Census data, I have identified four data points that I think are relevant to my question: 'population', 'median_income', 'per_capita_income', and 'poverty_percentage.' I will work on the Census data after I get the NICS data to a workable form.\n",
    "\n",
    "Let's take a look first at the time-frame of the NICS data. Since the census data covers the year 2016, I need to make sure that the entire year 2016 is also present in the NICS data. "
   ]
  },
  {
   "cell_type": "code",
   "execution_count": 6,
   "id": "2f64005c-1a9b-44ca-834b-905ac9beb49f",
   "metadata": {},
   "outputs": [
    {
     "name": "stdout",
     "output_type": "stream",
     "text": [
      "The earliest month recorded is: 1998-11\n",
      "The latest month recorded is: 2017-09\n"
     ]
    }
   ],
   "source": [
    "# finding the earlies and latest entries in the NICS data \n",
    "latest = df_nics.month.max()\n",
    "earliest = df_nics.month.min()\n",
    "# printing the same\n",
    "print('The earliest month recorded is: {}'.format(earliest))\n",
    "print('The latest month recorded is: {}'.format(latest))"
   ]
  },
  {
   "cell_type": "markdown",
   "id": "84b76026-4335-454b-858b-3e35f9176f09",
   "metadata": {},
   "source": [
    "Looks like I need to do some filtering to get data for only the year 2016."
   ]
  },
  {
   "cell_type": "markdown",
   "id": "03d058b8-1c78-492f-b2c9-ec7bc576a4ed",
   "metadata": {},
   "source": [
    "# Data Wrangling\n",
    "The first step for the NICS data is to remove the 5 'states' that aren't also present in the Census data. I'll accomplish this by simple filtering. I'll check the shape of the dataframe before filtering and again after. If the filtering was successful, the dataframe should be smaller."
   ]
  },
  {
   "cell_type": "code",
   "execution_count": 7,
   "id": "87f1d134-be0a-4039-97a4-2377f3a4cfbb",
   "metadata": {},
   "outputs": [
    {
     "data": {
      "text/plain": [
       "(12485, 27)"
      ]
     },
     "execution_count": 7,
     "metadata": {},
     "output_type": "execute_result"
    }
   ],
   "source": [
    "df_nics.shape"
   ]
  },
  {
   "cell_type": "markdown",
   "id": "fb4b5050-1ad7-4bb0-843e-9990235e0c56",
   "metadata": {},
   "source": [
    "In order to select states that are not in this list, I'll use the .isin() method to select all rows that meet this criteria."
   ]
  },
  {
   "cell_type": "code",
   "execution_count": 8,
   "id": "e301543c-1c55-4dab-a3a8-09aca3e34323",
   "metadata": {},
   "outputs": [
    {
     "data": {
      "text/plain": [
       "(11350, 27)"
      ]
     },
     "execution_count": 8,
     "metadata": {},
     "output_type": "execute_result"
    }
   ],
   "source": [
    "# list of locations to drop from the NICS data\n",
    "toDrop = ['District of Columbia', 'Virgin Islands', 'Puerto Rico', 'Mariana Islands', 'Guam']\n",
    "# dropping and copying to new dataframe\n",
    "df_nics_v1 = df_nics[~df_nics['state'].isin(toDrop)]\n",
    "df_nics_v1.set_index('state')\n",
    "# verify the shape change to indicate removal\n",
    "df_nics_v1.shape"
   ]
  },
  {
   "cell_type": "markdown",
   "id": "d7198f26-152c-417f-9f30-a659517d8b66",
   "metadata": {},
   "source": [
    "Now that the 5 extra 'states' have been removed, I can filter for the year 2016."
   ]
  },
  {
   "cell_type": "code",
   "execution_count": 9,
   "id": "89b44bd2-1ec1-485c-8aa9-7d1d0efdfa45",
   "metadata": {},
   "outputs": [
    {
     "data": {
      "text/plain": [
       "(600, 27)"
      ]
     },
     "execution_count": 9,
     "metadata": {},
     "output_type": "execute_result"
    }
   ],
   "source": [
    "# set the date range for 2016\n",
    "startdate = '2016-01'\n",
    "enddate= '2016-12'\n",
    "# select only rows with dates between startdate and enddate and copy to new dataframe \n",
    "df_nics_v2 = df_nics_v1[df_nics_v1['month'].between(startdate, enddate, inclusive=\"both\")]\n",
    "df_nics_v2.shape"
   ]
  },
  {
   "cell_type": "markdown",
   "id": "779d3e1e-b60d-4930-b70a-378ad2cdc4f2",
   "metadata": {},
   "source": [
    "Perfect. I now have the 600 rows that were expected for this 12 month period (50 x 12.) Next I'll check if there are any missing data points in this 12 month period. "
   ]
  },
  {
   "cell_type": "code",
   "execution_count": 10,
   "id": "4c629baf-c067-4489-8e24-8af6f3c03b0b",
   "metadata": {},
   "outputs": [
    {
     "data": {
      "text/plain": [
       "2016-12    50\n",
       "2016-11    50\n",
       "2016-10    50\n",
       "2016-09    50\n",
       "2016-08    50\n",
       "2016-07    50\n",
       "2016-06    50\n",
       "2016-05    50\n",
       "2016-04    50\n",
       "2016-03    50\n",
       "2016-02    50\n",
       "2016-01    50\n",
       "Name: month, dtype: int64"
      ]
     },
     "execution_count": 10,
     "metadata": {},
     "output_type": "execute_result"
    }
   ],
   "source": [
    "df_nics_v2['month'].value_counts()"
   ]
  },
  {
   "cell_type": "markdown",
   "id": "e4bd488f-8145-4970-94e6-17965aca209b",
   "metadata": {},
   "source": [
    "Looks like there are no missing values. Even a value of \"0\" will be relevant to my question."
   ]
  },
  {
   "cell_type": "markdown",
   "id": "a80fe11d-3a25-428d-b4e5-fafca167c12b",
   "metadata": {},
   "source": [
    "Next I'll remove all columns other than the prepawn and redemption columns, I'll group the individual states and aggregate the prepawn and redemption columns together."
   ]
  },
  {
   "cell_type": "code",
   "execution_count": 11,
   "id": "2e507228-5b92-4109-ae2e-0ccf29a95897",
   "metadata": {},
   "outputs": [
    {
     "data": {
      "text/html": [
       "<div>\n",
       "<style scoped>\n",
       "    .dataframe tbody tr th:only-of-type {\n",
       "        vertical-align: middle;\n",
       "    }\n",
       "\n",
       "    .dataframe tbody tr th {\n",
       "        vertical-align: top;\n",
       "    }\n",
       "\n",
       "    .dataframe thead th {\n",
       "        text-align: right;\n",
       "    }\n",
       "</style>\n",
       "<table border=\"1\" class=\"dataframe\">\n",
       "  <thead>\n",
       "    <tr style=\"text-align: right;\">\n",
       "      <th></th>\n",
       "      <th>prepawn_total</th>\n",
       "      <th>redemption_total</th>\n",
       "    </tr>\n",
       "    <tr>\n",
       "      <th>state</th>\n",
       "      <th></th>\n",
       "      <th></th>\n",
       "    </tr>\n",
       "  </thead>\n",
       "  <tbody>\n",
       "    <tr>\n",
       "      <th>Alabama</th>\n",
       "      <td>227.0</td>\n",
       "      <td>37795.0</td>\n",
       "    </tr>\n",
       "    <tr>\n",
       "      <th>Alaska</th>\n",
       "      <td>154.0</td>\n",
       "      <td>4304.0</td>\n",
       "    </tr>\n",
       "    <tr>\n",
       "      <th>Arizona</th>\n",
       "      <td>137.0</td>\n",
       "      <td>25044.0</td>\n",
       "    </tr>\n",
       "    <tr>\n",
       "      <th>Arkansas</th>\n",
       "      <td>196.0</td>\n",
       "      <td>33206.0</td>\n",
       "    </tr>\n",
       "    <tr>\n",
       "      <th>California</th>\n",
       "      <td>0.0</td>\n",
       "      <td>13574.0</td>\n",
       "    </tr>\n",
       "  </tbody>\n",
       "</table>\n",
       "</div>"
      ],
      "text/plain": [
       "            prepawn_total  redemption_total\n",
       "state                                      \n",
       "Alabama             227.0           37795.0\n",
       "Alaska              154.0            4304.0\n",
       "Arizona             137.0           25044.0\n",
       "Arkansas            196.0           33206.0\n",
       "California            0.0           13574.0"
      ]
     },
     "execution_count": 11,
     "metadata": {},
     "output_type": "execute_result"
    }
   ],
   "source": [
    "# create list of columns\n",
    "nics_list = ['state', 'prepawn_handgun', 'prepawn_long_gun', 'prepawn_other', 'redemption_handgun', 'redemption_long_gun', 'redemption_other']\n",
    "# grouping by state\n",
    "df_nics_v3 = df_nics_v2[nics_list].groupby('state').sum()\n",
    "# aggregating prepawn and redemption columns into total columns for each\n",
    "df_nics_v3['prepawn_total'] = df_nics_v3['prepawn_handgun'] + df_nics_v3['prepawn_long_gun'] + df_nics_v3['prepawn_other']\n",
    "df_nics_v3['redemption_total'] = df_nics_v3['redemption_handgun'] + df_nics_v3['redemption_long_gun'] + df_nics_v3['redemption_other']\n",
    "# updating this dataframe to only contain the total columns\n",
    "df_nics_v3 = df_nics_v3[['prepawn_total', 'redemption_total']]\n",
    "# verify changes\n",
    "df_nics_v3.head()\n"
   ]
  },
  {
   "cell_type": "markdown",
   "id": "8ad06c66-f52a-40b5-8c9b-e23ae48279a0",
   "metadata": {},
   "source": [
    "Now that the columns have been simplified, I should change their data type since the FBI does not conduct partial background checks."
   ]
  },
  {
   "cell_type": "code",
   "execution_count": 12,
   "id": "4ed40fd3-04f4-4f29-8135-d49df62511d8",
   "metadata": {},
   "outputs": [
    {
     "data": {
      "text/html": [
       "<div>\n",
       "<style scoped>\n",
       "    .dataframe tbody tr th:only-of-type {\n",
       "        vertical-align: middle;\n",
       "    }\n",
       "\n",
       "    .dataframe tbody tr th {\n",
       "        vertical-align: top;\n",
       "    }\n",
       "\n",
       "    .dataframe thead th {\n",
       "        text-align: right;\n",
       "    }\n",
       "</style>\n",
       "<table border=\"1\" class=\"dataframe\">\n",
       "  <thead>\n",
       "    <tr style=\"text-align: right;\">\n",
       "      <th></th>\n",
       "      <th>prepawn_total</th>\n",
       "      <th>redemption_total</th>\n",
       "    </tr>\n",
       "    <tr>\n",
       "      <th>state</th>\n",
       "      <th></th>\n",
       "      <th></th>\n",
       "    </tr>\n",
       "  </thead>\n",
       "  <tbody>\n",
       "    <tr>\n",
       "      <th>Alabama</th>\n",
       "      <td>227</td>\n",
       "      <td>37795</td>\n",
       "    </tr>\n",
       "    <tr>\n",
       "      <th>Alaska</th>\n",
       "      <td>154</td>\n",
       "      <td>4304</td>\n",
       "    </tr>\n",
       "    <tr>\n",
       "      <th>Arizona</th>\n",
       "      <td>137</td>\n",
       "      <td>25044</td>\n",
       "    </tr>\n",
       "    <tr>\n",
       "      <th>Arkansas</th>\n",
       "      <td>196</td>\n",
       "      <td>33206</td>\n",
       "    </tr>\n",
       "    <tr>\n",
       "      <th>California</th>\n",
       "      <td>0</td>\n",
       "      <td>13574</td>\n",
       "    </tr>\n",
       "  </tbody>\n",
       "</table>\n",
       "</div>"
      ],
      "text/plain": [
       "            prepawn_total  redemption_total\n",
       "state                                      \n",
       "Alabama               227             37795\n",
       "Alaska                154              4304\n",
       "Arizona               137             25044\n",
       "Arkansas              196             33206\n",
       "California              0             13574"
      ]
     },
     "execution_count": 12,
     "metadata": {},
     "output_type": "execute_result"
    }
   ],
   "source": [
    "# change datatypes to int and copy to new final NICS dataframe\n",
    "df_nics_final = df_nics_v3.astype(int)\n",
    "# verify changes\n",
    "df_nics_final.head()"
   ]
  },
  {
   "cell_type": "markdown",
   "id": "28488f74-7868-4a01-aaf7-14e77ac5c798",
   "metadata": {},
   "source": [
    "Great! The Census dataframe needs a little bit more work to prepare for the merge. I need to: Filter the data that I'm interested in (population, median household income, per-capita income, and persons in poverty), rename the row indexes, drop the 'Fact' and 'Fact Note' columns, change the value data types appropriately, and reorient the data frame to match the NICS data frame. \n",
    "\n",
    "First to filter the rows that I want so I'm working on fewer rows at a time. I'll filter by row index: rows 1, 48, 49, 50. This data is 0 indexed, so I'll subtract 1 from these row numbers to filter."
   ]
  },
  {
   "cell_type": "code",
   "execution_count": 13,
   "id": "72ebe703-0ede-4d98-be22-b25185fbeaab",
   "metadata": {},
   "outputs": [
    {
     "data": {
      "text/html": [
       "<div>\n",
       "<style scoped>\n",
       "    .dataframe tbody tr th:only-of-type {\n",
       "        vertical-align: middle;\n",
       "    }\n",
       "\n",
       "    .dataframe tbody tr th {\n",
       "        vertical-align: top;\n",
       "    }\n",
       "\n",
       "    .dataframe thead th {\n",
       "        text-align: right;\n",
       "    }\n",
       "</style>\n",
       "<table border=\"1\" class=\"dataframe\">\n",
       "  <thead>\n",
       "    <tr style=\"text-align: right;\">\n",
       "      <th></th>\n",
       "      <th>Fact</th>\n",
       "      <th>Fact Note</th>\n",
       "      <th>Alabama</th>\n",
       "      <th>Alaska</th>\n",
       "      <th>Arizona</th>\n",
       "      <th>Arkansas</th>\n",
       "      <th>California</th>\n",
       "      <th>Colorado</th>\n",
       "      <th>Connecticut</th>\n",
       "      <th>Delaware</th>\n",
       "      <th>...</th>\n",
       "      <th>South Dakota</th>\n",
       "      <th>Tennessee</th>\n",
       "      <th>Texas</th>\n",
       "      <th>Utah</th>\n",
       "      <th>Vermont</th>\n",
       "      <th>Virginia</th>\n",
       "      <th>Washington</th>\n",
       "      <th>West Virginia</th>\n",
       "      <th>Wisconsin</th>\n",
       "      <th>Wyoming</th>\n",
       "    </tr>\n",
       "  </thead>\n",
       "  <tbody>\n",
       "    <tr>\n",
       "      <th>0</th>\n",
       "      <td>Population estimates, July 1, 2016,  (V2016)</td>\n",
       "      <td>NaN</td>\n",
       "      <td>4,863,300</td>\n",
       "      <td>741,894</td>\n",
       "      <td>6,931,071</td>\n",
       "      <td>2,988,248</td>\n",
       "      <td>39,250,017</td>\n",
       "      <td>5,540,545</td>\n",
       "      <td>3,576,452</td>\n",
       "      <td>952,065</td>\n",
       "      <td>...</td>\n",
       "      <td>865454</td>\n",
       "      <td>6651194</td>\n",
       "      <td>27,862,596</td>\n",
       "      <td>3,051,217</td>\n",
       "      <td>624,594</td>\n",
       "      <td>8,411,808</td>\n",
       "      <td>7,288,000</td>\n",
       "      <td>1,831,102</td>\n",
       "      <td>5,778,708</td>\n",
       "      <td>585,501</td>\n",
       "    </tr>\n",
       "    <tr>\n",
       "      <th>47</th>\n",
       "      <td>Median household income (in 2015 dollars), 201...</td>\n",
       "      <td>NaN</td>\n",
       "      <td>$43,623</td>\n",
       "      <td>$72,515</td>\n",
       "      <td>$50,255</td>\n",
       "      <td>$41,371</td>\n",
       "      <td>$61,818</td>\n",
       "      <td>$60,629</td>\n",
       "      <td>$70,331</td>\n",
       "      <td>$60,509</td>\n",
       "      <td>...</td>\n",
       "      <td>50957</td>\n",
       "      <td>45219</td>\n",
       "      <td>$53,207</td>\n",
       "      <td>$60,727</td>\n",
       "      <td>$55,176</td>\n",
       "      <td>$65,015</td>\n",
       "      <td>$61,062</td>\n",
       "      <td>$41,751</td>\n",
       "      <td>$53,357</td>\n",
       "      <td>$58,840</td>\n",
       "    </tr>\n",
       "    <tr>\n",
       "      <th>48</th>\n",
       "      <td>Per capita income in past 12 months (in 2015 d...</td>\n",
       "      <td>NaN</td>\n",
       "      <td>$24,091</td>\n",
       "      <td>$33,413</td>\n",
       "      <td>$25,848</td>\n",
       "      <td>$22,798</td>\n",
       "      <td>$30,318</td>\n",
       "      <td>$32,217</td>\n",
       "      <td>$38,803</td>\n",
       "      <td>$30,554</td>\n",
       "      <td>...</td>\n",
       "      <td>26747</td>\n",
       "      <td>25227</td>\n",
       "      <td>$26,999</td>\n",
       "      <td>$24,686</td>\n",
       "      <td>$29,894</td>\n",
       "      <td>$34,152</td>\n",
       "      <td>$31,762</td>\n",
       "      <td>$23,450</td>\n",
       "      <td>$28,340</td>\n",
       "      <td>$29,803</td>\n",
       "    </tr>\n",
       "    <tr>\n",
       "      <th>49</th>\n",
       "      <td>Persons in poverty, percent</td>\n",
       "      <td>NaN</td>\n",
       "      <td>17.10%</td>\n",
       "      <td>9.90%</td>\n",
       "      <td>16.40%</td>\n",
       "      <td>17.20%</td>\n",
       "      <td>14.30%</td>\n",
       "      <td>11.00%</td>\n",
       "      <td>9.80%</td>\n",
       "      <td>11.70%</td>\n",
       "      <td>...</td>\n",
       "      <td>0.133</td>\n",
       "      <td>0.158</td>\n",
       "      <td>15.60%</td>\n",
       "      <td>10.20%</td>\n",
       "      <td>11.90%</td>\n",
       "      <td>11.00%</td>\n",
       "      <td>11.30%</td>\n",
       "      <td>17.90%</td>\n",
       "      <td>11.80%</td>\n",
       "      <td>11.30%</td>\n",
       "    </tr>\n",
       "  </tbody>\n",
       "</table>\n",
       "<p>4 rows × 52 columns</p>\n",
       "</div>"
      ],
      "text/plain": [
       "                                                 Fact Fact Note    Alabama  \\\n",
       "0        Population estimates, July 1, 2016,  (V2016)       NaN  4,863,300   \n",
       "47  Median household income (in 2015 dollars), 201...       NaN   $43,623    \n",
       "48  Per capita income in past 12 months (in 2015 d...       NaN   $24,091    \n",
       "49                        Persons in poverty, percent       NaN     17.10%   \n",
       "\n",
       "      Alaska    Arizona   Arkansas  California   Colorado Connecticut  \\\n",
       "0    741,894  6,931,071  2,988,248  39,250,017  5,540,545   3,576,452   \n",
       "47  $72,515    $50,255    $41,371     $61,818    $60,629     $70,331    \n",
       "48  $33,413    $25,848    $22,798     $30,318    $32,217     $38,803    \n",
       "49     9.90%     16.40%     17.20%      14.30%     11.00%       9.80%   \n",
       "\n",
       "    Delaware  ... South Dakota Tennessee       Texas       Utah   Vermont  \\\n",
       "0    952,065  ...       865454   6651194  27,862,596  3,051,217   624,594   \n",
       "47  $60,509   ...        50957     45219    $53,207    $60,727   $55,176    \n",
       "48  $30,554   ...        26747     25227    $26,999    $24,686   $29,894    \n",
       "49    11.70%  ...        0.133     0.158      15.60%     10.20%    11.90%   \n",
       "\n",
       "     Virginia Washington West Virginia  Wisconsin   Wyoming  \n",
       "0   8,411,808  7,288,000     1,831,102  5,778,708   585,501  \n",
       "47   $65,015    $61,062       $41,751    $53,357   $58,840   \n",
       "48   $34,152    $31,762       $23,450    $28,340   $29,803   \n",
       "49     11.00%     11.30%        17.90%     11.80%    11.30%  \n",
       "\n",
       "[4 rows x 52 columns]"
      ]
     },
     "execution_count": 13,
     "metadata": {},
     "output_type": "execute_result"
    }
   ],
   "source": [
    "# copy selected rows to new dataframe\n",
    "df_census_v1 = df_census.iloc[[0, 47, 48, 49]]\n",
    "# verify changes\n",
    "df_census_v1.head()"
   ]
  },
  {
   "cell_type": "markdown",
   "id": "13bbe3cf-8b4a-44ac-a748-c8bd7a86b6fb",
   "metadata": {},
   "source": [
    "Down to the required 4 rows. Next I'll drop the 'Fact' and 'Fact Note' columns and then rename the columns for ease of use."
   ]
  },
  {
   "cell_type": "code",
   "execution_count": 14,
   "id": "d12a89de-cbf2-485c-8877-2a8964f2974d",
   "metadata": {},
   "outputs": [
    {
     "data": {
      "text/html": [
       "<div>\n",
       "<style scoped>\n",
       "    .dataframe tbody tr th:only-of-type {\n",
       "        vertical-align: middle;\n",
       "    }\n",
       "\n",
       "    .dataframe tbody tr th {\n",
       "        vertical-align: top;\n",
       "    }\n",
       "\n",
       "    .dataframe thead th {\n",
       "        text-align: right;\n",
       "    }\n",
       "</style>\n",
       "<table border=\"1\" class=\"dataframe\">\n",
       "  <thead>\n",
       "    <tr style=\"text-align: right;\">\n",
       "      <th></th>\n",
       "      <th>Alabama</th>\n",
       "      <th>Alaska</th>\n",
       "      <th>Arizona</th>\n",
       "      <th>Arkansas</th>\n",
       "      <th>California</th>\n",
       "      <th>Colorado</th>\n",
       "      <th>Connecticut</th>\n",
       "      <th>Delaware</th>\n",
       "      <th>Florida</th>\n",
       "      <th>Georgia</th>\n",
       "      <th>...</th>\n",
       "      <th>South Dakota</th>\n",
       "      <th>Tennessee</th>\n",
       "      <th>Texas</th>\n",
       "      <th>Utah</th>\n",
       "      <th>Vermont</th>\n",
       "      <th>Virginia</th>\n",
       "      <th>Washington</th>\n",
       "      <th>West Virginia</th>\n",
       "      <th>Wisconsin</th>\n",
       "      <th>Wyoming</th>\n",
       "    </tr>\n",
       "  </thead>\n",
       "  <tbody>\n",
       "    <tr>\n",
       "      <th>population</th>\n",
       "      <td>4,863,300</td>\n",
       "      <td>741,894</td>\n",
       "      <td>6,931,071</td>\n",
       "      <td>2,988,248</td>\n",
       "      <td>39,250,017</td>\n",
       "      <td>5,540,545</td>\n",
       "      <td>3,576,452</td>\n",
       "      <td>952,065</td>\n",
       "      <td>20,612,439</td>\n",
       "      <td>10,310,371</td>\n",
       "      <td>...</td>\n",
       "      <td>865454</td>\n",
       "      <td>6651194</td>\n",
       "      <td>27,862,596</td>\n",
       "      <td>3,051,217</td>\n",
       "      <td>624,594</td>\n",
       "      <td>8,411,808</td>\n",
       "      <td>7,288,000</td>\n",
       "      <td>1,831,102</td>\n",
       "      <td>5,778,708</td>\n",
       "      <td>585,501</td>\n",
       "    </tr>\n",
       "    <tr>\n",
       "      <th>median_income</th>\n",
       "      <td>$43,623</td>\n",
       "      <td>$72,515</td>\n",
       "      <td>$50,255</td>\n",
       "      <td>$41,371</td>\n",
       "      <td>$61,818</td>\n",
       "      <td>$60,629</td>\n",
       "      <td>$70,331</td>\n",
       "      <td>$60,509</td>\n",
       "      <td>$47,507</td>\n",
       "      <td>$49,620</td>\n",
       "      <td>...</td>\n",
       "      <td>50957</td>\n",
       "      <td>45219</td>\n",
       "      <td>$53,207</td>\n",
       "      <td>$60,727</td>\n",
       "      <td>$55,176</td>\n",
       "      <td>$65,015</td>\n",
       "      <td>$61,062</td>\n",
       "      <td>$41,751</td>\n",
       "      <td>$53,357</td>\n",
       "      <td>$58,840</td>\n",
       "    </tr>\n",
       "    <tr>\n",
       "      <th>per_capita_income</th>\n",
       "      <td>$24,091</td>\n",
       "      <td>$33,413</td>\n",
       "      <td>$25,848</td>\n",
       "      <td>$22,798</td>\n",
       "      <td>$30,318</td>\n",
       "      <td>$32,217</td>\n",
       "      <td>$38,803</td>\n",
       "      <td>$30,554</td>\n",
       "      <td>$26,829</td>\n",
       "      <td>$25,737</td>\n",
       "      <td>...</td>\n",
       "      <td>26747</td>\n",
       "      <td>25227</td>\n",
       "      <td>$26,999</td>\n",
       "      <td>$24,686</td>\n",
       "      <td>$29,894</td>\n",
       "      <td>$34,152</td>\n",
       "      <td>$31,762</td>\n",
       "      <td>$23,450</td>\n",
       "      <td>$28,340</td>\n",
       "      <td>$29,803</td>\n",
       "    </tr>\n",
       "    <tr>\n",
       "      <th>poverty_percentage</th>\n",
       "      <td>17.10%</td>\n",
       "      <td>9.90%</td>\n",
       "      <td>16.40%</td>\n",
       "      <td>17.20%</td>\n",
       "      <td>14.30%</td>\n",
       "      <td>11.00%</td>\n",
       "      <td>9.80%</td>\n",
       "      <td>11.70%</td>\n",
       "      <td>14.70%</td>\n",
       "      <td>16.00%</td>\n",
       "      <td>...</td>\n",
       "      <td>0.133</td>\n",
       "      <td>0.158</td>\n",
       "      <td>15.60%</td>\n",
       "      <td>10.20%</td>\n",
       "      <td>11.90%</td>\n",
       "      <td>11.00%</td>\n",
       "      <td>11.30%</td>\n",
       "      <td>17.90%</td>\n",
       "      <td>11.80%</td>\n",
       "      <td>11.30%</td>\n",
       "    </tr>\n",
       "  </tbody>\n",
       "</table>\n",
       "<p>4 rows × 50 columns</p>\n",
       "</div>"
      ],
      "text/plain": [
       "                      Alabama    Alaska    Arizona   Arkansas  California  \\\n",
       "population          4,863,300   741,894  6,931,071  2,988,248  39,250,017   \n",
       "median_income        $43,623   $72,515    $50,255    $41,371     $61,818    \n",
       "per_capita_income    $24,091   $33,413    $25,848    $22,798     $30,318    \n",
       "poverty_percentage     17.10%     9.90%     16.40%     17.20%      14.30%   \n",
       "\n",
       "                     Colorado Connecticut  Delaware     Florida     Georgia  \\\n",
       "population          5,540,545   3,576,452   952,065  20,612,439  10,310,371   \n",
       "median_income        $60,629     $70,331   $60,509     $47,507     $49,620    \n",
       "per_capita_income    $32,217     $38,803   $30,554     $26,829     $25,737    \n",
       "poverty_percentage     11.00%       9.80%    11.70%      14.70%      16.00%   \n",
       "\n",
       "                    ... South Dakota Tennessee       Texas       Utah  \\\n",
       "population          ...       865454   6651194  27,862,596  3,051,217   \n",
       "median_income       ...        50957     45219    $53,207    $60,727    \n",
       "per_capita_income   ...        26747     25227    $26,999    $24,686    \n",
       "poverty_percentage  ...        0.133     0.158      15.60%     10.20%   \n",
       "\n",
       "                     Vermont   Virginia Washington West Virginia  Wisconsin  \\\n",
       "population           624,594  8,411,808  7,288,000     1,831,102  5,778,708   \n",
       "median_income       $55,176    $65,015    $61,062       $41,751    $53,357    \n",
       "per_capita_income   $29,894    $34,152    $31,762       $23,450    $28,340    \n",
       "poverty_percentage    11.90%     11.00%     11.30%        17.90%     11.80%   \n",
       "\n",
       "                     Wyoming  \n",
       "population           585,501  \n",
       "median_income       $58,840   \n",
       "per_capita_income   $29,803   \n",
       "poverty_percentage    11.30%  \n",
       "\n",
       "[4 rows x 50 columns]"
      ]
     },
     "execution_count": 14,
     "metadata": {},
     "output_type": "execute_result"
    }
   ],
   "source": [
    "# drop unnecessary columns and copy to new dataframe\n",
    "df_census_v2 = df_census_v1.drop(columns=['Fact', 'Fact Note'])\n",
    "# create list of columns\n",
    "census_list = ['population', 'median_income', 'per_capita_income', 'poverty_percentage']\n",
    "# renaming colums inplace\n",
    "df_census_v2.set_axis(census_list, axis='index', inplace=True)\n",
    "#verify changes\n",
    "df_census_v2"
   ]
  },
  {
   "cell_type": "markdown",
   "id": "afcff1ba-30a2-4aeb-a121-8fa43c1e2e53",
   "metadata": {},
   "source": [
    "I need to swap this data frame's axes in order for it to line up to df_nics_final. I'll go ahead and do that now."
   ]
  },
  {
   "cell_type": "code",
   "execution_count": 15,
   "id": "209afa2b-7dcf-4faf-9ab3-7720595156a5",
   "metadata": {},
   "outputs": [
    {
     "data": {
      "text/html": [
       "<div>\n",
       "<style scoped>\n",
       "    .dataframe tbody tr th:only-of-type {\n",
       "        vertical-align: middle;\n",
       "    }\n",
       "\n",
       "    .dataframe tbody tr th {\n",
       "        vertical-align: top;\n",
       "    }\n",
       "\n",
       "    .dataframe thead th {\n",
       "        text-align: right;\n",
       "    }\n",
       "</style>\n",
       "<table border=\"1\" class=\"dataframe\">\n",
       "  <thead>\n",
       "    <tr style=\"text-align: right;\">\n",
       "      <th></th>\n",
       "      <th>population</th>\n",
       "      <th>median_income</th>\n",
       "      <th>per_capita_income</th>\n",
       "      <th>poverty_percentage</th>\n",
       "    </tr>\n",
       "  </thead>\n",
       "  <tbody>\n",
       "    <tr>\n",
       "      <th>Alabama</th>\n",
       "      <td>4,863,300</td>\n",
       "      <td>$43,623</td>\n",
       "      <td>$24,091</td>\n",
       "      <td>17.10%</td>\n",
       "    </tr>\n",
       "    <tr>\n",
       "      <th>Alaska</th>\n",
       "      <td>741,894</td>\n",
       "      <td>$72,515</td>\n",
       "      <td>$33,413</td>\n",
       "      <td>9.90%</td>\n",
       "    </tr>\n",
       "    <tr>\n",
       "      <th>Arizona</th>\n",
       "      <td>6,931,071</td>\n",
       "      <td>$50,255</td>\n",
       "      <td>$25,848</td>\n",
       "      <td>16.40%</td>\n",
       "    </tr>\n",
       "    <tr>\n",
       "      <th>Arkansas</th>\n",
       "      <td>2,988,248</td>\n",
       "      <td>$41,371</td>\n",
       "      <td>$22,798</td>\n",
       "      <td>17.20%</td>\n",
       "    </tr>\n",
       "    <tr>\n",
       "      <th>California</th>\n",
       "      <td>39,250,017</td>\n",
       "      <td>$61,818</td>\n",
       "      <td>$30,318</td>\n",
       "      <td>14.30%</td>\n",
       "    </tr>\n",
       "  </tbody>\n",
       "</table>\n",
       "</div>"
      ],
      "text/plain": [
       "            population median_income per_capita_income poverty_percentage\n",
       "Alabama      4,863,300      $43,623           $24,091              17.10%\n",
       "Alaska         741,894      $72,515           $33,413               9.90%\n",
       "Arizona      6,931,071      $50,255           $25,848              16.40%\n",
       "Arkansas     2,988,248      $41,371           $22,798              17.20%\n",
       "California  39,250,017      $61,818           $30,318              14.30%"
      ]
     },
     "execution_count": 15,
     "metadata": {},
     "output_type": "execute_result"
    }
   ],
   "source": [
    "# transpose dataframe\n",
    "df_census_v3 = df_census_v2.transpose()\n",
    "# verify changes\n",
    "df_census_v3.head()"
   ]
  },
  {
   "cell_type": "markdown",
   "id": "ed43573f-42ce-458c-9407-4ec11037aefb",
   "metadata": {},
   "source": [
    "Now to remove all special characters and then ensure that all collumns have the correct datatype. All columns should be type int, except for poverty_percentage which will be type float."
   ]
  },
  {
   "cell_type": "code",
   "execution_count": 16,
   "id": "a6812186-57ae-425b-9c8c-298d65769d2d",
   "metadata": {},
   "outputs": [
    {
     "data": {
      "text/html": [
       "<div>\n",
       "<style scoped>\n",
       "    .dataframe tbody tr th:only-of-type {\n",
       "        vertical-align: middle;\n",
       "    }\n",
       "\n",
       "    .dataframe tbody tr th {\n",
       "        vertical-align: top;\n",
       "    }\n",
       "\n",
       "    .dataframe thead th {\n",
       "        text-align: right;\n",
       "    }\n",
       "</style>\n",
       "<table border=\"1\" class=\"dataframe\">\n",
       "  <thead>\n",
       "    <tr style=\"text-align: right;\">\n",
       "      <th></th>\n",
       "      <th>population</th>\n",
       "      <th>median_income</th>\n",
       "      <th>per_capita_income</th>\n",
       "      <th>poverty_percentage</th>\n",
       "    </tr>\n",
       "  </thead>\n",
       "  <tbody>\n",
       "    <tr>\n",
       "      <th>Alabama</th>\n",
       "      <td>4863300</td>\n",
       "      <td>43623</td>\n",
       "      <td>24091</td>\n",
       "      <td>17.1</td>\n",
       "    </tr>\n",
       "    <tr>\n",
       "      <th>Alaska</th>\n",
       "      <td>741894</td>\n",
       "      <td>72515</td>\n",
       "      <td>33413</td>\n",
       "      <td>9.9</td>\n",
       "    </tr>\n",
       "    <tr>\n",
       "      <th>Arizona</th>\n",
       "      <td>6931071</td>\n",
       "      <td>50255</td>\n",
       "      <td>25848</td>\n",
       "      <td>16.4</td>\n",
       "    </tr>\n",
       "    <tr>\n",
       "      <th>Arkansas</th>\n",
       "      <td>2988248</td>\n",
       "      <td>41371</td>\n",
       "      <td>22798</td>\n",
       "      <td>17.2</td>\n",
       "    </tr>\n",
       "    <tr>\n",
       "      <th>California</th>\n",
       "      <td>39250017</td>\n",
       "      <td>61818</td>\n",
       "      <td>30318</td>\n",
       "      <td>14.3</td>\n",
       "    </tr>\n",
       "  </tbody>\n",
       "</table>\n",
       "</div>"
      ],
      "text/plain": [
       "            population  median_income  per_capita_income  poverty_percentage\n",
       "Alabama        4863300          43623              24091                17.1\n",
       "Alaska          741894          72515              33413                 9.9\n",
       "Arizona        6931071          50255              25848                16.4\n",
       "Arkansas       2988248          41371              22798                17.2\n",
       "California    39250017          61818              30318                14.3"
      ]
     },
     "execution_count": 16,
     "metadata": {},
     "output_type": "execute_result"
    }
   ],
   "source": [
    "# replacing special characters inplace\n",
    "df_census_v3.iloc[:].replace('[\\%,$]', '', regex=True, inplace=True)\n",
    "# converting from string to numeric type\n",
    "df_census_v3 = df_census_v3.apply(pd.to_numeric, errors='ignore')\n",
    "#verify special characters removed\n",
    "df_census_v3.head()"
   ]
  },
  {
   "cell_type": "markdown",
   "id": "ccfd0161-010d-4ca7-a3dd-8eb1b5abf924",
   "metadata": {},
   "source": []
  },
  {
   "cell_type": "markdown",
   "id": "6ada45be-8a62-459d-9810-58d8602fb1e6",
   "metadata": {},
   "source": [
    "This looks like a good place to set a new working version/copy of the census dataframe and work on fixing the percentages. These values are expressed either as percentages or as a decimal value. For ease of use later, I'll format these as decimal values by simply changing the datatype of the values in that column. I'll also create a new column that converts the percentage of people living under the poverty line to a whole number."
   ]
  },
  {
   "cell_type": "code",
   "execution_count": 17,
   "id": "1cd5f100-e466-4899-aac3-f9edc7471e95",
   "metadata": {},
   "outputs": [
    {
     "data": {
      "text/html": [
       "<div>\n",
       "<style scoped>\n",
       "    .dataframe tbody tr th:only-of-type {\n",
       "        vertical-align: middle;\n",
       "    }\n",
       "\n",
       "    .dataframe tbody tr th {\n",
       "        vertical-align: top;\n",
       "    }\n",
       "\n",
       "    .dataframe thead th {\n",
       "        text-align: right;\n",
       "    }\n",
       "</style>\n",
       "<table border=\"1\" class=\"dataframe\">\n",
       "  <thead>\n",
       "    <tr style=\"text-align: right;\">\n",
       "      <th></th>\n",
       "      <th>population</th>\n",
       "      <th>median_income</th>\n",
       "      <th>per_capita_income</th>\n",
       "      <th>poverty_percentage</th>\n",
       "      <th>poverty_population</th>\n",
       "    </tr>\n",
       "  </thead>\n",
       "  <tbody>\n",
       "    <tr>\n",
       "      <th>Alabama</th>\n",
       "      <td>4863300</td>\n",
       "      <td>43623</td>\n",
       "      <td>24091</td>\n",
       "      <td>0.171</td>\n",
       "      <td>831624</td>\n",
       "    </tr>\n",
       "    <tr>\n",
       "      <th>Alaska</th>\n",
       "      <td>741894</td>\n",
       "      <td>72515</td>\n",
       "      <td>33413</td>\n",
       "      <td>0.099</td>\n",
       "      <td>73447</td>\n",
       "    </tr>\n",
       "    <tr>\n",
       "      <th>Arizona</th>\n",
       "      <td>6931071</td>\n",
       "      <td>50255</td>\n",
       "      <td>25848</td>\n",
       "      <td>0.164</td>\n",
       "      <td>1136695</td>\n",
       "    </tr>\n",
       "    <tr>\n",
       "      <th>Arkansas</th>\n",
       "      <td>2988248</td>\n",
       "      <td>41371</td>\n",
       "      <td>22798</td>\n",
       "      <td>0.172</td>\n",
       "      <td>513978</td>\n",
       "    </tr>\n",
       "    <tr>\n",
       "      <th>California</th>\n",
       "      <td>39250017</td>\n",
       "      <td>61818</td>\n",
       "      <td>30318</td>\n",
       "      <td>0.143</td>\n",
       "      <td>5612752</td>\n",
       "    </tr>\n",
       "  </tbody>\n",
       "</table>\n",
       "</div>"
      ],
      "text/plain": [
       "            population  median_income  per_capita_income  poverty_percentage  \\\n",
       "Alabama        4863300          43623              24091               0.171   \n",
       "Alaska          741894          72515              33413               0.099   \n",
       "Arizona        6931071          50255              25848               0.164   \n",
       "Arkansas       2988248          41371              22798               0.172   \n",
       "California    39250017          61818              30318               0.143   \n",
       "\n",
       "            poverty_population  \n",
       "Alabama                 831624  \n",
       "Alaska                   73447  \n",
       "Arizona                1136695  \n",
       "Arkansas                513978  \n",
       "California             5612752  "
      ]
     },
     "execution_count": 17,
     "metadata": {},
     "output_type": "execute_result"
    }
   ],
   "source": [
    "# copy to new dataframe for next step\n",
    "df_census_v4 = df_census_v3\n",
    "# formatting percentages to decimal values\n",
    "df_census_v4['poverty_percentage'] = df_census_v4.iloc[:,3].apply(lambda x: (x / 100 if x > 1 else x))\n",
    "# creating new colum poverty_population expressign poverty_percentage as number of individuals\n",
    "df_census_v4['poverty_population'] = df_census_v4['population'] * df_census_v4['poverty_percentage']\n",
    "# changing datatype of poverty_population collumn to int\n",
    "df_census_v4['poverty_population'] = df_census_v4['poverty_population'].astype(int)\n",
    "# copy to new dataframe\n",
    "df_census_final = df_census_v4\n",
    "#verify changes\n",
    "df_census_final.head()"
   ]
  },
  {
   "cell_type": "markdown",
   "id": "6ddb9aee-a002-4053-90df-1922fd8f32f5",
   "metadata": {
    "tags": []
   },
   "source": [
    "Now to join the data frames together.\n"
   ]
  },
  {
   "cell_type": "code",
   "execution_count": 18,
   "id": "0cb1d756-cf7a-4ee1-8cde-ca32337198d6",
   "metadata": {},
   "outputs": [
    {
     "data": {
      "text/html": [
       "<div>\n",
       "<style scoped>\n",
       "    .dataframe tbody tr th:only-of-type {\n",
       "        vertical-align: middle;\n",
       "    }\n",
       "\n",
       "    .dataframe tbody tr th {\n",
       "        vertical-align: top;\n",
       "    }\n",
       "\n",
       "    .dataframe thead th {\n",
       "        text-align: right;\n",
       "    }\n",
       "</style>\n",
       "<table border=\"1\" class=\"dataframe\">\n",
       "  <thead>\n",
       "    <tr style=\"text-align: right;\">\n",
       "      <th></th>\n",
       "      <th>prepawn_total</th>\n",
       "      <th>redemption_total</th>\n",
       "      <th>population</th>\n",
       "      <th>median_income</th>\n",
       "      <th>per_capita_income</th>\n",
       "      <th>poverty_percentage</th>\n",
       "      <th>poverty_population</th>\n",
       "    </tr>\n",
       "    <tr>\n",
       "      <th>states</th>\n",
       "      <th></th>\n",
       "      <th></th>\n",
       "      <th></th>\n",
       "      <th></th>\n",
       "      <th></th>\n",
       "      <th></th>\n",
       "      <th></th>\n",
       "    </tr>\n",
       "  </thead>\n",
       "  <tbody>\n",
       "    <tr>\n",
       "      <th>Alabama</th>\n",
       "      <td>227</td>\n",
       "      <td>37795</td>\n",
       "      <td>4863300</td>\n",
       "      <td>43623</td>\n",
       "      <td>24091</td>\n",
       "      <td>0.171</td>\n",
       "      <td>831624</td>\n",
       "    </tr>\n",
       "    <tr>\n",
       "      <th>Alaska</th>\n",
       "      <td>154</td>\n",
       "      <td>4304</td>\n",
       "      <td>741894</td>\n",
       "      <td>72515</td>\n",
       "      <td>33413</td>\n",
       "      <td>0.099</td>\n",
       "      <td>73447</td>\n",
       "    </tr>\n",
       "    <tr>\n",
       "      <th>Arizona</th>\n",
       "      <td>137</td>\n",
       "      <td>25044</td>\n",
       "      <td>6931071</td>\n",
       "      <td>50255</td>\n",
       "      <td>25848</td>\n",
       "      <td>0.164</td>\n",
       "      <td>1136695</td>\n",
       "    </tr>\n",
       "    <tr>\n",
       "      <th>Arkansas</th>\n",
       "      <td>196</td>\n",
       "      <td>33206</td>\n",
       "      <td>2988248</td>\n",
       "      <td>41371</td>\n",
       "      <td>22798</td>\n",
       "      <td>0.172</td>\n",
       "      <td>513978</td>\n",
       "    </tr>\n",
       "    <tr>\n",
       "      <th>California</th>\n",
       "      <td>0</td>\n",
       "      <td>13574</td>\n",
       "      <td>39250017</td>\n",
       "      <td>61818</td>\n",
       "      <td>30318</td>\n",
       "      <td>0.143</td>\n",
       "      <td>5612752</td>\n",
       "    </tr>\n",
       "  </tbody>\n",
       "</table>\n",
       "</div>"
      ],
      "text/plain": [
       "            prepawn_total  redemption_total  population  median_income  \\\n",
       "states                                                                   \n",
       "Alabama               227             37795     4863300          43623   \n",
       "Alaska                154              4304      741894          72515   \n",
       "Arizona               137             25044     6931071          50255   \n",
       "Arkansas              196             33206     2988248          41371   \n",
       "California              0             13574    39250017          61818   \n",
       "\n",
       "            per_capita_income  poverty_percentage  poverty_population  \n",
       "states                                                                 \n",
       "Alabama                 24091               0.171              831624  \n",
       "Alaska                  33413               0.099               73447  \n",
       "Arizona                 25848               0.164             1136695  \n",
       "Arkansas                22798               0.172              513978  \n",
       "California              30318               0.143             5612752  "
      ]
     },
     "execution_count": 18,
     "metadata": {},
     "output_type": "execute_result"
    }
   ],
   "source": [
    "# using .join to combine nics_final and census_final\n",
    "df_combined = df_nics_final.join(df_census_final)\n",
    "# setting index name to 'states'\n",
    "df_combined.index.name='states'\n",
    "# verify changes\n",
    "df_combined.head()"
   ]
  },
  {
   "cell_type": "markdown",
   "id": "1ae67ce2-8b36-43d5-9461-c4d497b9ee64",
   "metadata": {},
   "source": [
    "<a id='eda'></a>\n",
    "## Exploratory Data Analysis"
   ]
  },
  {
   "cell_type": "markdown",
   "id": "93ac852b-b11c-4a03-a5ac-238e40cd37db",
   "metadata": {},
   "source": [
    "### Question 1\n",
    "Is there any correlation between the number of NICS prepawn background checks and the percentage of the population living under the poverty line? \n",
    "\n",
    "In the next few cells I'll chart the total instances of these bacground checks and the percentage of the population living under the poverty line on a state-by-state basis. "
   ]
  },
  {
   "cell_type": "code",
   "execution_count": 44,
   "id": "af7c18e1",
   "metadata": {},
   "outputs": [
    {
     "data": {
      "image/png": "[encoded data removed]",
      "text/plain": [
       "<Figure size 1440x1152 with 2 Axes>"
      ]
     },
     "metadata": {
      "needs_background": "light"
     },
     "output_type": "display_data"
    }
   ],
   "source": [
    "# generate plots for poverty_percentage and prepawn_total\n",
    "df_combined.plot.barh(y=['poverty_percentage', 'prepawn_total'], subplots=True, layout=[1,2], sharex=False, sharey=True,\n",
    "                      figsize=(20,16), edgecolor='black', width=0.8)\n",
    "plt.suptitle('Poverty Percentage & Pre-Pawn Background Checks by state'.title(), y=1.05, weight='bold')\n",
    "plt.tight_layout()\n",
    "plt.show()"
   ]
  },
  {
   "cell_type": "markdown",
   "id": "6a1e1ffa-0873-4dff-999c-e7dbea974f97",
   "metadata": {},
   "source": [
    "This already looks promising. There are several spots where both charts share peaks and valleys. Mississippi looks like it has about the highest correlation. Texas has the highest prepawn_total value, but the percentage of the population living under the poverty line isn't matching up. I'll pull these cells to see whats going on."
   ]
  },
  {
   "cell_type": "code",
   "execution_count": 20,
   "id": "24f2c976-9539-40e2-aeb4-de06c6966225",
   "metadata": {},
   "outputs": [
    {
     "name": "stdout",
     "output_type": "stream",
     "text": [
      "Max Prepawn Total: 827\n",
      "Max Poverty Percentage: 0.208\n",
      "Mean Per-Capita Income: 28491.78\n",
      "***********\n",
      "Texas Prepawn Total: 827.0\n",
      "Texas Per-Capita Income: 26999.0\n",
      "***********\n",
      "Mississippi Poverty Percentage: 0.208\n"
     ]
    }
   ],
   "source": [
    "print('Max Prepawn Total: {}'.format(df_combined['prepawn_total'].max()))\n",
    "print('Max Poverty Percentage: {:.3f}'.format(df_combined['poverty_percentage'].max()))\n",
    "print('Mean Per-Capita Income: {}'.format(df_combined['per_capita_income'].mean()))\n",
    "print('***********')\n",
    "print('Texas Prepawn Total: {}'.format(df_combined.loc['Texas']['prepawn_total']))\n",
    "print('Texas Per-Capita Income: {}'.format(df_combined.loc['Texas']['per_capita_income']))\n",
    "print('***********')\n",
    "print('Mississippi Poverty Percentage: {:.3f}'.format(df_combined.loc['Mississippi']['poverty_percentage']))"
   ]
  },
  {
   "cell_type": "markdown",
   "id": "94957498-1643-4edd-9d5a-e27c42733c0e",
   "metadata": {},
   "source": [
    "Mississippi has the highest poverty rate in the nation, and Texas has the highest number of prepawn background checks and a relatively average per-capita income.\n",
    "Next we'll take a look at the relationship between these two variables."
   ]
  },
  {
   "cell_type": "code",
   "execution_count": 21,
   "id": "c547fe9c",
   "metadata": {},
   "outputs": [],
   "source": [
    "# creating a function to generate scatter plot\n",
    "def basicScatterPlot(df, xVar, yVar):\n",
    "    '''\n",
    "    This function takes three arguments and outputs a basic scatterplot with two variables.\n",
    "    Arguments:\n",
    "    df (pandas.Dataframe): dataframe containing the data\n",
    "    xVar (str): column to be used as x variable\n",
    "    yVar (str): column to be used as y variable\n",
    "    '''\n",
    "    # plotting the data\n",
    "    df.plot(kind='scatter', x=xVar, y=yVar, figsize=(14, 6), s=10);\n",
    "    # formatting the variable names to remove underscores for better readability\n",
    "    xVar=xVar.replace('_', ' ')\n",
    "    yVar=yVar.replace('_', ' ')\n",
    "    # setting and formatting the title\n",
    "    plt.title(f'Relationship between {yVar} and {xVar}'.title(), fontsize = 14, weight = 'bold')\n",
    "    # setting and formatting the variable labels\n",
    "    plt.xlabel(xVar.title(), fontsize = 10, weight = 'bold')\n",
    "    plt.ylabel(yVar.title(), fontsize = 10, weight = 'bold')"
   ]
  },
  {
   "cell_type": "code",
   "execution_count": 22,
   "id": "307d30f6-9196-4c03-9722-eb8ae87af375",
   "metadata": {},
   "outputs": [
    {
     "data": {
      "image/png": "[encoded data removed]",
      "text/plain": [
       "<Figure size 1008x432 with 1 Axes>"
      ]
     },
     "metadata": {
      "needs_background": "light"
     },
     "output_type": "display_data"
    }
   ],
   "source": [
    "# calling plot function\n",
    "basicScatterPlot(df_combined, 'poverty_percentage', 'prepawn_total')"
   ]
  },
  {
   "cell_type": "code",
   "execution_count": 23,
   "id": "c82ed089-f267-4118-beae-79562c7cbf18",
   "metadata": {},
   "outputs": [],
   "source": [
    "# creating a function to return correlation coefficient between variables\n",
    "def basicCorrelation(df, var1 , var2 ):\n",
    "    '''\n",
    "    This function takes three arguments and returns the correlation coefficient (r value) between two variables.\n",
    "    Arguments:\n",
    "    df (pandas.Dataframe): dataframe containing the data\n",
    "    var1 (str): column to be used as 1st variable\n",
    "    var2 (str): column to be used as 2nd variable\n",
    "    '''\n",
    "    rValue = df[var1].corr(df[var2])\n",
    "    print('{:.3f}'.format(rValue))"
   ]
  },
  {
   "cell_type": "code",
   "execution_count": 24,
   "id": "17a7603c",
   "metadata": {},
   "outputs": [
    {
     "name": "stdout",
     "output_type": "stream",
     "text": [
      "0.558\n"
     ]
    }
   ],
   "source": [
    "# calling correlation function\n",
    "basicCorrelation(df_combined, 'poverty_percentage', 'prepawn_total')"
   ]
  },
  {
   "cell_type": "markdown",
   "id": "dfebf3db-62a9-4b44-a9e3-dea4d7c9c7f7",
   "metadata": {},
   "source": [
    "This r value indicates that there is a moderate positive correlation between these two variables."
   ]
  },
  {
   "cell_type": "markdown",
   "id": "ac57ac3d-c435-4d84-a8cd-b24bc73ed140",
   "metadata": {},
   "source": [
    "### Question 2\n",
    "Is the inverse true? In states with a higher per-capita or median income, is the population more likely to have a higher rate of background checks conducted for the purpose of releasing a firearm from a pawn shop?"
   ]
  },
  {
   "cell_type": "code",
   "execution_count": 60,
   "id": "b9c8f805",
   "metadata": {},
   "outputs": [
    {
     "data": {
      "image/png": "[encoded data removed]",
      "text/plain": [
       "<Figure size 1440x1152 with 3 Axes>"
      ]
     },
     "metadata": {
      "needs_background": "light"
     },
     "output_type": "display_data"
    }
   ],
   "source": [
    "# generate plots for median_income and redemption_total\n",
    "df_combined.plot.barh(y=['median_income', 'per_capita_income', 'redemption_total'], subplots=True, layout=[1,3], sharex=False, sharey=True,\n",
    "                      figsize=(20,16), edgecolor='black', width=0.8)\n",
    "plt.suptitle('Median Income & Redemption Background Checks by state'.title(), y=1.05, weight='bold')\n",
    "ax = plt.gca()\n",
    "ax.invert_yaxis()\n",
    "plt.tight_layout()\n",
    "plt.show()"
   ]
  },
  {
   "cell_type": "code",
   "execution_count": 26,
   "id": "6cf536c1-1016-4747-a23f-b6e030333fe7",
   "metadata": {},
   "outputs": [
    {
     "name": "stdout",
     "output_type": "stream",
     "text": [
      "0.914\n"
     ]
    }
   ],
   "source": [
    "basicCorrelation(df_combined, 'median_income', 'per_capita_income')"
   ]
  },
  {
   "cell_type": "markdown",
   "id": "1c4486b4-aedf-4935-b34d-a9125c73702b",
   "metadata": {},
   "source": [
    "Since per-capita income and median_income share such a strong postive correlation, I'm going to consider them one and the same for the purpose of this question and ask again: Does a higher income population redeem firearms from pawn shops at a higher rate? "
   ]
  },
  {
   "cell_type": "code",
   "execution_count": 28,
   "id": "84fc685e",
   "metadata": {},
   "outputs": [
    {
     "data": {
      "image/png": "[encoded data removed]",
      "text/plain": [
       "<Figure size 1008x432 with 1 Axes>"
      ]
     },
     "metadata": {
      "needs_background": "light"
     },
     "output_type": "display_data"
    }
   ],
   "source": [
    "basicScatterPlot(df_combined, 'median_income', 'redemption_total')"
   ]
  },
  {
   "cell_type": "markdown",
   "id": "9fa1a743",
   "metadata": {},
   "source": [
    "To take a better look at the data, I'll remove Texas's redemption_total datapoint, since it is starting to appear that Texas is an outlier in the data."
   ]
  },
  {
   "cell_type": "code",
   "execution_count": 37,
   "id": "11518515-c0c0-4d39-8795-720bfafcbe4f",
   "metadata": {},
   "outputs": [
    {
     "data": {
      "image/png": "[encoded data removed]",
      "text/plain": [
       "<Figure size 1008x432 with 1 Axes>"
      ]
     },
     "metadata": {
      "needs_background": "light"
     },
     "output_type": "display_data"
    }
   ],
   "source": [
    "basicScatterPlot(df_combined.query('redemption_total<redemption_total.quantile(0.95)'), 'median_income', 'redemption_total')"
   ]
  },
  {
   "cell_type": "code",
   "execution_count": 34,
   "id": "cd1e2d2e-7dbc-4fb7-8bd4-e9a8516fbc1e",
   "metadata": {},
   "outputs": [
    {
     "name": "stdout",
     "output_type": "stream",
     "text": [
      "-0.415\n"
     ]
    }
   ],
   "source": [
    "basicCorrelation(df_combined, 'redemption_total', 'median_income')"
   ]
  },
  {
   "cell_type": "markdown",
   "id": "c307be07-085e-4ddc-a665-654d871f5e39",
   "metadata": {},
   "source": [
    "This r value indicates a moderate negative correlation between these two variables."
   ]
  },
  {
   "cell_type": "markdown",
   "id": "deef7add-6921-4e4e-86f1-c65097198f2d",
   "metadata": {},
   "source": [
    "### Question 3\n",
    "Is there a relationship between the number of people living under the poverty line and using a firearm as collateral to secure a loan?"
   ]
  },
  {
   "cell_type": "code",
   "execution_count": 52,
   "id": "2f238314",
   "metadata": {},
   "outputs": [
    {
     "data": {
      "image/png": "[encoded data removed]",
      "text/plain": [
       "<Figure size 1440x1152 with 2 Axes>"
      ]
     },
     "metadata": {
      "needs_background": "light"
     },
     "output_type": "display_data"
    }
   ],
   "source": [
    "# generate plots for poverty_percentage and prepawn_total\n",
    "df_combined.plot.barh(y=['poverty_population', 'prepawn_total'], subplots=True, layout=[1,2], sharex=False, sharey=True,\n",
    "                      figsize=(20,16), edgecolor='black', width=0.8)\n",
    "plt.suptitle('Poverty Percentage & Pre-Pawn Background Checks by state'.title(), y=1.05, weight='bold')\n",
    "ax = plt.gca()\n",
    "ax.invert_yaxis()\n",
    "plt.tight_layout()\n",
    "plt.show()"
   ]
  },
  {
   "cell_type": "code",
   "execution_count": 35,
   "id": "8e1f6e35-2ca2-4220-b4b0-6327081f62f1",
   "metadata": {},
   "outputs": [
    {
     "name": "stdout",
     "output_type": "stream",
     "text": [
      "0.366\n"
     ]
    }
   ],
   "source": [
    "basicCorrelation(df_combined, 'poverty_population', 'prepawn_total')"
   ]
  },
  {
   "cell_type": "markdown",
   "id": "4593398d-5ebd-4e24-b109-5372eec2f90e",
   "metadata": {},
   "source": [
    "This r value indicates a weak negative relationship."
   ]
  },
  {
   "cell_type": "markdown",
   "id": "b2babf15-a5c0-4e58-ac73-7884e3dd7548",
   "metadata": {},
   "source": [
    "<a id='conclusions'></a>\n",
    "# Conclusions"
   ]
  },
  {
   "cell_type": "markdown",
   "id": "e03bedcb-85ba-48da-a479-ab48fa9b9747",
   "metadata": {},
   "source": [
    "### Question 1\n",
    "Is there any correlation between the number of NICS prepawn background checks and the percentage of the population living under the poverty line? \n",
    "\n",
    "In short, yes. While there is only a moderate postive relationship between these two variables, if I were to control for the politics around firearms for each state I believe the correlation would be even greater. Well, with the exception of Texas, that is. Texas leads in both prepawn and redemption background checks while having a rather average median/per-capita income. If I remove both California and Texas (I've chosen both because they're political opposites) from this data, this correlation does get stronger.\n",
    "\n",
    "So the long answer to the question, \"Can you predict which states have higher rates of using firearms as security for a loan based on the percentage of the population living under the poverty line?\" is, \"Yes, but not in Texas or California.\""
   ]
  },
  {
   "cell_type": "code",
   "execution_count": 38,
   "id": "b9d802d5-f1da-4739-af19-b621178c9d70",
   "metadata": {},
   "outputs": [
    {
     "name": "stdout",
     "output_type": "stream",
     "text": [
      "0.674\n"
     ]
    }
   ],
   "source": [
    "# drop the Texas and California columns and copy to new dataframe\n",
    "df_no_outliers = df_combined.drop(['California', 'Texas'])\n",
    "basicCorrelation(df_no_outliers, 'poverty_percentage', 'prepawn_total')"
   ]
  },
  {
   "cell_type": "markdown",
   "id": "0a7842c2-6c41-45bc-a077-31cc2eda3c00",
   "metadata": {},
   "source": [
    "### Question 2\n",
    "Is the inverse true? In states with a higher per-capita or median income, is the population more likely to have a higher rate of background checks conducted for the purpose of releasing a firearm from a pawn shop?\n",
    "\n",
    "The answer here is no. We see a moderate negative relationship between these two variables. In fact, removing California and Texas makes this correlation even stronger. I suspect that this is because the populations living in states with higher per-captia incomes do not tend to pawn firearms at all. "
   ]
  },
  {
   "cell_type": "code",
   "execution_count": 39,
   "id": "b7d74ec2-831b-429d-90f0-1896df5765fa",
   "metadata": {},
   "outputs": [
    {
     "name": "stdout",
     "output_type": "stream",
     "text": [
      "-0.581\n"
     ]
    }
   ],
   "source": [
    "basicCorrelation(df_no_outliers, 'per_capita_income', 'redemption_total')"
   ]
  },
  {
   "cell_type": "markdown",
   "id": "90bae5a2-1549-48c2-b5b8-49844fe11f9f",
   "metadata": {},
   "source": [
    "### Question 3\n",
    "Is there a relationship between the number of people living under the poverty line and using a firearm as collateral to secure a loan?\n",
    "\n",
    "Regardless of outliers in the data, there appears to not be much of a relationship between these two variables at all. I did expect that the more populated a state is, the more background checks are conducted. Since the prepawn background check starts off as a conversation about money, I expected there to be a correlation between these two variables. Even when I control for the California/Texas outliers, this correllation became even weaker. "
   ]
  },
  {
   "cell_type": "code",
   "execution_count": 41,
   "id": "7ba107c4-0e8d-405e-82ed-2b6d79de8274",
   "metadata": {},
   "outputs": [
    {
     "name": "stdout",
     "output_type": "stream",
     "text": [
      "0.248\n"
     ]
    }
   ],
   "source": [
    "basicCorrelation(df_no_outliers, 'poverty_population', 'prepawn_total')"
   ]
  }
 ],
 "metadata": {
  "kernelspec": {
   "display_name": "Python 3 (ipykernel)",
   "language": "python",
   "name": "python3"
  },
  "language_info": {
   "codemirror_mode": {
    "name": "ipython",
    "version": 3
   },
   "file_extension": ".py",
   "mimetype": "text/x-python",
   "name": "python",
   "nbconvert_exporter": "python",
   "pygments_lexer": "ipython3",
   "version": "3.9.7"
  }
 },
 "nbformat": 4,
 "nbformat_minor": 5
}
